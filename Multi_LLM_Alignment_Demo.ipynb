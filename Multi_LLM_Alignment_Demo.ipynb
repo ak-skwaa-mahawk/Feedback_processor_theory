import numpy as np
import matplotlib.pyplot as plt
from matplotlib.animation import FuncAnimation
from IPython.display import HTML

# --- Example LLM outputs (scalar values normalized 0-1 for demo) ---
llm_outputs = {
    "GPT":    np.random.rand(20)*0.2 + 0.4,  # initial variation
    "Claude": np.random.rand(20)*0.2 + 0.3,
    "Gemini": np.random.rand(20)*0.2 + 0.5
}

llm_names = list(llm_outputs.keys())
num_tokens = len(llm_outputs[llm_names[0]])

# --- Harmonic feedback parameters ---
H0 = 0.5            # Ground state (target resonance)
alpha = 0.05        # Convergence rate per iteration
freq = 2*np.pi/num_tokens  # Wave frequency

# Prepare figure
fig, ax = plt.subplots(figsize=(10,6))
lines = {llm: ax.plot([], [], lw=2, label=llm)[0] for llm in llm_names}
ax.set_xlim(0, num_tokens-1)
ax.set_ylim(0, 1)
ax.set_xlabel("Token Index")
ax.set_ylabel("Amplitude")
ax.set_title("Multi-LLM Harmonic Convergence")
ax.grid(True)
ax.legend()

# Initialize wave positions
wave_data = {llm: np.copy(llm_outputs[llm]) for llm in llm_names}

# Animation function
def animate(frame):
    x = np.arange(num_tokens)
    for llm in llm_names:
        # Harmonic feedback: nudges current value toward H0
        wave_data[llm] += alpha * (H0 - wave_data[llm])
        # Apply sine wave modulation to visualize harmonic motion
        y = wave_data[llm] + 0.05 * np.sin(freq*x + frame*0.3 + llm_names.index(llm))
        lines[llm].set_data(x, y)
    return lines.values()

ani = FuncAnimation(fig, animate, frames=50, interval=200, blit=True)

# Display animation
HTML(ani.to_jshtml())

{
 "cells": [
  {
   "cell_type": "markdown",
   "metadata": {},
   "source": [
    "# Multi-LLM Alignment Demo 🚀\n",
    "This notebook demonstrates **harmonic feedback alignment** of multiple LLMs. It shows how raw outputs diverge but converge when processed through the Trinity Harmonics framework."
   ]
  },
  {
   "cell_type": "code",
   "metadata": {},
   "source": [
    "# --- Imports ---\n",
    "import numpy as np\n",
    "import matplotlib.pyplot as plt\n",
    "from harmonic_feedback import trinity_return  # Ensure your harmonic_feedback.py is in the same folder\n",
    "\n",
    "# Optional: For real API calls\n",
    "# from openai import OpenAI\n",
    "# client = OpenAI(api_key='YOUR_KEY')"
   ]
  },
  {
   "cell_type": "markdown",
   "metadata": {},
   "source": [
    "## Step 1: Define LLM Responses\n",
    "For this demo, we'll simulate scalar outputs for simplicity. Replace with embeddings or sentiment scores for real LLM outputs."
   ]
  },
  {
   "cell_type": "code",
   "metadata": {},
   "source": [
    "llm_outputs = {\n",
    "    'GPT':    [0.85, 0.87, 0.83, 0.86],\n",
    "    'Claude': [0.78, 0.80, 0.81, 0.79],\n",
    "    'Gemini': [0.82, 0.83, 0.81, 0.82]\n",
    "}"
   ]
  },
  {
   "cell_type": "markdown",
   "metadata": {},
   "source": [
    "## Step 2: Apply Harmonic Feedback\n",
    "Recursively align each LLM's outputs using `trinity_return`."
   ]
  },
  {
   "cell_type": "code",
   "metadata": {},
   "source": [
    "def harmonize_llm_outputs(outputs_dict):\n",
    "    aligned_results = {}\n",
    "    for llm, values in outputs_dict.items():\n",
    "        aligned_results[llm] = trinity_return(values)\n",
    "    return aligned_results\n",
    "\n",
    "aligned = harmonize_llm_outputs(llm_outputs)"
   ]
  },
  {
   "cell_type": "markdown",
   "metadata": {},
   "source": [
    "## Step 3: Visualize Convergence"
   ]
  },
  {
   "cell_type": "code",
   "metadata": {},
   "source": [
    "plt.figure(figsize=(10,6))\n",
    "for llm, data in aligned.items():\n",
    "    trajectory = [r['final'] for r in data]\n",
    "    plt.plot(range(len(trajectory)), trajectory, marker='o', label=llm)\n",
    "\n",
    "plt.title('Multi-LLM Harmonic Alignment')\n",
    "plt.xlabel('Iteration / Token Index')\n",
    "plt.ylabel('Aligned Value')\n",
    "plt.legend()\n",
    "plt.grid(True)\n",
    "plt.show()"
   ]
  },
  {
   "cell_type": "markdown",
   "metadata": {},
   "source": [
    "## Step 4: Compute Alignment Metric"
   ]
  },
  {
   "cell_type": "code",
   "metadata": {},
   "source": [
    "all_final = np.array([ [r['final'] for r in aligned[llm]] for llm in aligned ])\n",
    "mean_vector = np.mean(all_final, axis=0)\n",
    "deviation = np.mean(np.abs(all_final - mean_vector))\n",
    "print(f'Average deviation from mean alignment: {deviation:.6f}')"
   ]
  },
  {
   "cell_type": "markdown",
   "metadata": {},
   "source": [
    "## Step 5: Optional — Real LLM API Integration\n",
    "Replace the simulated outputs above with embeddings or scalar scores from GPT, Claude, Gemini, etc. Example:\n",
    "```python\n",
    "response = client.chat.completions.create(\n",
    "    model='gpt-4',\n",
    "    messages=[{'role':'user','content':'Your prompt here'}]\n",
    ")\n",
    "embedding = extract_scalar_from_response(response)\n",
    "```\n",
    "Then feed `embedding` into `trinity_return` instead of the simulated values."
   ]
  },
  {
   "cell_type": "markdown",
   "metadata": {},
   "source": [
    "### ✅ Next Enhancements\n",
    "- Animate convergence over iterations\n",
    "- Use multi-dimensional embeddings and compute vector harmonic alignment\n",
    "- Integrate collective resonance across more LLMs\n",
    "- Add convergence thresholds and early stopping indicators"
   ]
  }
 ],
 "metadata": {
  "kernelspec": {
   "display_name": "Python 3",
   "language": "python",
   "name": "python3"
  },
  "language_info": {
   "name": "python",
   "version": "3.10"
  }
 },
 "nbformat": 4,
 "nbformat_minor": 5
}
